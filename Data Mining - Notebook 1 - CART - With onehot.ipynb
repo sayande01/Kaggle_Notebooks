{
 "cells": [
  {
   "cell_type": "markdown",
   "metadata": {},
   "source": [
    "# Classification and Regression Tree"
   ]
  },
  {
   "cell_type": "markdown",
   "metadata": {},
   "source": [
    "$\\underline{Problem Statement}$: Given the Independent variables, we have to predict whether the customer will respond to the marketing campaign or not."
   ]
  },
  {
   "cell_type": "code",
   "execution_count": 1,
   "metadata": {
    "ExecuteTime": {
     "end_time": "2020-03-25T07:48:10.524490Z",
     "start_time": "2020-03-25T07:48:10.520540Z"
    }
   },
   "outputs": [],
   "source": [
    "# Importing the necessary Modules\n",
    "import pandas as pd\n",
    "import numpy as np\n",
    "import matplotlib.pyplot as plt\n",
    "import seaborn as sns\n",
    "from sklearn.model_selection import train_test_split # to split data into training and testing sets\n",
    "from sklearn.model_selection import cross_val_score # for cross validation\n",
    "from sklearn.metrics import confusion_matrix # to create a confusion matrix\n",
    "from sklearn.metrics import plot_confusion_matrix # to draw a confusion matrix"
   ]
  },
  {
   "cell_type": "code",
   "execution_count": 2,
   "metadata": {
    "ExecuteTime": {
     "end_time": "2020-03-25T07:48:10.662123Z",
     "start_time": "2020-03-25T07:48:10.526485Z"
    }
   },
   "outputs": [
    {
     "data": {
      "text/plain": [
       "'C:\\\\Users\\\\vivek\\\\Google Drive\\\\Training\\\\Data Mining\\\\CART\\\\CART folder - Instructor using Python\\\\Class Demo Files\\\\Example 1'"
      ]
     },
     "execution_count": 2,
     "metadata": {},
     "output_type": "execute_result"
    }
   ],
   "source": [
    "import os\n",
    "os.getcwd()"
   ]
  },
  {
   "cell_type": "code",
   "execution_count": 3,
   "metadata": {
    "ExecuteTime": {
     "end_time": "2020-03-25T07:48:10.841644Z",
     "start_time": "2020-03-25T07:48:10.664119Z"
    }
   },
   "outputs": [
    {
     "data": {
      "text/html": [
       "<div>\n",
       "<style scoped>\n",
       "    .dataframe tbody tr th:only-of-type {\n",
       "        vertical-align: middle;\n",
       "    }\n",
       "\n",
       "    .dataframe tbody tr th {\n",
       "        vertical-align: top;\n",
       "    }\n",
       "\n",
       "    .dataframe thead th {\n",
       "        text-align: right;\n",
       "    }\n",
       "</style>\n",
       "<table border=\"1\" class=\"dataframe\">\n",
       "  <thead>\n",
       "    <tr style=\"text-align: right;\">\n",
       "      <th></th>\n",
       "      <th>Cust_ID</th>\n",
       "      <th>Target</th>\n",
       "      <th>Age</th>\n",
       "      <th>Gender</th>\n",
       "      <th>Balance</th>\n",
       "      <th>Occupation</th>\n",
       "      <th>No_OF_CR_TXNS</th>\n",
       "      <th>AGE_BKT</th>\n",
       "      <th>SCR</th>\n",
       "      <th>Holding_Period</th>\n",
       "    </tr>\n",
       "  </thead>\n",
       "  <tbody>\n",
       "    <tr>\n",
       "      <th>0</th>\n",
       "      <td>C16505</td>\n",
       "      <td>0</td>\n",
       "      <td>41</td>\n",
       "      <td>M</td>\n",
       "      <td>91519.92</td>\n",
       "      <td>SELF-EMP</td>\n",
       "      <td>38</td>\n",
       "      <td>41-45</td>\n",
       "      <td>926</td>\n",
       "      <td>15</td>\n",
       "    </tr>\n",
       "    <tr>\n",
       "      <th>1</th>\n",
       "      <td>C17241</td>\n",
       "      <td>0</td>\n",
       "      <td>52</td>\n",
       "      <td>M</td>\n",
       "      <td>117288.96</td>\n",
       "      <td>SAL</td>\n",
       "      <td>17</td>\n",
       "      <td>&gt;50</td>\n",
       "      <td>768</td>\n",
       "      <td>13</td>\n",
       "    </tr>\n",
       "    <tr>\n",
       "      <th>2</th>\n",
       "      <td>C18802</td>\n",
       "      <td>0</td>\n",
       "      <td>31</td>\n",
       "      <td>F</td>\n",
       "      <td>259827.44</td>\n",
       "      <td>SENP</td>\n",
       "      <td>8</td>\n",
       "      <td>31-35</td>\n",
       "      <td>816</td>\n",
       "      <td>5</td>\n",
       "    </tr>\n",
       "    <tr>\n",
       "      <th>3</th>\n",
       "      <td>C19289</td>\n",
       "      <td>0</td>\n",
       "      <td>45</td>\n",
       "      <td>F</td>\n",
       "      <td>26677.55</td>\n",
       "      <td>PROF</td>\n",
       "      <td>14</td>\n",
       "      <td>41-45</td>\n",
       "      <td>353</td>\n",
       "      <td>18</td>\n",
       "    </tr>\n",
       "    <tr>\n",
       "      <th>4</th>\n",
       "      <td>C14028</td>\n",
       "      <td>0</td>\n",
       "      <td>39</td>\n",
       "      <td>F</td>\n",
       "      <td>43440.31</td>\n",
       "      <td>SENP</td>\n",
       "      <td>1</td>\n",
       "      <td>36-40</td>\n",
       "      <td>751</td>\n",
       "      <td>31</td>\n",
       "    </tr>\n",
       "  </tbody>\n",
       "</table>\n",
       "</div>"
      ],
      "text/plain": [
       "  Cust_ID  Target  Age Gender    Balance Occupation  No_OF_CR_TXNS AGE_BKT  \\\n",
       "0  C16505       0   41      M   91519.92   SELF-EMP             38   41-45   \n",
       "1  C17241       0   52      M  117288.96        SAL             17     >50   \n",
       "2  C18802       0   31      F  259827.44       SENP              8   31-35   \n",
       "3  C19289       0   45      F   26677.55       PROF             14   41-45   \n",
       "4  C14028       0   39      F   43440.31       SENP              1   36-40   \n",
       "\n",
       "   SCR  Holding_Period  \n",
       "0  926              15  \n",
       "1  768              13  \n",
       "2  816               5  \n",
       "3  353              18  \n",
       "4  751              31  "
      ]
     },
     "execution_count": 3,
     "metadata": {},
     "output_type": "execute_result"
    }
   ],
   "source": [
    "df = pd.read_csv('DATASET - Original Copy.csv')\n",
    "df.head()"
   ]
  },
  {
   "cell_type": "markdown",
   "metadata": {},
   "source": [
    "Let us now check for the missing values."
   ]
  },
  {
   "cell_type": "code",
   "execution_count": 4,
   "metadata": {
    "ExecuteTime": {
     "end_time": "2020-03-25T07:48:10.932433Z",
     "start_time": "2020-03-25T07:48:10.843637Z"
    }
   },
   "outputs": [
    {
     "data": {
      "text/plain": [
       "Cust_ID           0\n",
       "Target            0\n",
       "Age               0\n",
       "Gender            0\n",
       "Balance           0\n",
       "Occupation        0\n",
       "No_OF_CR_TXNS     0\n",
       "AGE_BKT           0\n",
       "SCR               0\n",
       "Holding_Period    0\n",
       "dtype: int64"
      ]
     },
     "execution_count": 4,
     "metadata": {},
     "output_type": "execute_result"
    }
   ],
   "source": [
    "df.isnull().sum()"
   ]
  },
  {
   "cell_type": "markdown",
   "metadata": {},
   "source": [
    "There are no missing values in the dataset and we can go ahead with building the model."
   ]
  },
  {
   "cell_type": "markdown",
   "metadata": {},
   "source": [
    "Let us check the number of rows and the number of columns in the dataframe."
   ]
  },
  {
   "cell_type": "code",
   "execution_count": 5,
   "metadata": {
    "ExecuteTime": {
     "end_time": "2020-03-25T07:48:11.056105Z",
     "start_time": "2020-03-25T07:48:10.933397Z"
    }
   },
   "outputs": [
    {
     "name": "stdout",
     "output_type": "stream",
     "text": [
      "The number of rows (observations) is: 20000 \n",
      "The number of columns(variables) is: 10\n"
     ]
    }
   ],
   "source": [
    "print('The number of rows (observations) is:',df.shape[0],'\\n''The number of columns(variables) is:',df.shape[1])"
   ]
  },
  {
   "cell_type": "markdown",
   "metadata": {},
   "source": [
    "We will drop the 'Cust_ID' variable.\n",
    "Also dropping AGE_BKT as we already have the Age as a seperate variable"
   ]
  },
  {
   "cell_type": "code",
   "execution_count": 6,
   "metadata": {
    "ExecuteTime": {
     "end_time": "2020-03-25T07:48:11.177771Z",
     "start_time": "2020-03-25T07:48:11.057066Z"
    }
   },
   "outputs": [
    {
     "data": {
      "text/html": [
       "<div>\n",
       "<style scoped>\n",
       "    .dataframe tbody tr th:only-of-type {\n",
       "        vertical-align: middle;\n",
       "    }\n",
       "\n",
       "    .dataframe tbody tr th {\n",
       "        vertical-align: top;\n",
       "    }\n",
       "\n",
       "    .dataframe thead th {\n",
       "        text-align: right;\n",
       "    }\n",
       "</style>\n",
       "<table border=\"1\" class=\"dataframe\">\n",
       "  <thead>\n",
       "    <tr style=\"text-align: right;\">\n",
       "      <th></th>\n",
       "      <th>Target</th>\n",
       "      <th>Age</th>\n",
       "      <th>Gender</th>\n",
       "      <th>Balance</th>\n",
       "      <th>Occupation</th>\n",
       "      <th>No_OF_CR_TXNS</th>\n",
       "      <th>SCR</th>\n",
       "      <th>Holding_Period</th>\n",
       "    </tr>\n",
       "  </thead>\n",
       "  <tbody>\n",
       "    <tr>\n",
       "      <th>0</th>\n",
       "      <td>0</td>\n",
       "      <td>41</td>\n",
       "      <td>M</td>\n",
       "      <td>91519.92</td>\n",
       "      <td>SELF-EMP</td>\n",
       "      <td>38</td>\n",
       "      <td>926</td>\n",
       "      <td>15</td>\n",
       "    </tr>\n",
       "    <tr>\n",
       "      <th>1</th>\n",
       "      <td>0</td>\n",
       "      <td>52</td>\n",
       "      <td>M</td>\n",
       "      <td>117288.96</td>\n",
       "      <td>SAL</td>\n",
       "      <td>17</td>\n",
       "      <td>768</td>\n",
       "      <td>13</td>\n",
       "    </tr>\n",
       "    <tr>\n",
       "      <th>2</th>\n",
       "      <td>0</td>\n",
       "      <td>31</td>\n",
       "      <td>F</td>\n",
       "      <td>259827.44</td>\n",
       "      <td>SENP</td>\n",
       "      <td>8</td>\n",
       "      <td>816</td>\n",
       "      <td>5</td>\n",
       "    </tr>\n",
       "    <tr>\n",
       "      <th>3</th>\n",
       "      <td>0</td>\n",
       "      <td>45</td>\n",
       "      <td>F</td>\n",
       "      <td>26677.55</td>\n",
       "      <td>PROF</td>\n",
       "      <td>14</td>\n",
       "      <td>353</td>\n",
       "      <td>18</td>\n",
       "    </tr>\n",
       "    <tr>\n",
       "      <th>4</th>\n",
       "      <td>0</td>\n",
       "      <td>39</td>\n",
       "      <td>F</td>\n",
       "      <td>43440.31</td>\n",
       "      <td>SENP</td>\n",
       "      <td>1</td>\n",
       "      <td>751</td>\n",
       "      <td>31</td>\n",
       "    </tr>\n",
       "  </tbody>\n",
       "</table>\n",
       "</div>"
      ],
      "text/plain": [
       "   Target  Age Gender    Balance Occupation  No_OF_CR_TXNS  SCR  \\\n",
       "0       0   41      M   91519.92   SELF-EMP             38  926   \n",
       "1       0   52      M  117288.96        SAL             17  768   \n",
       "2       0   31      F  259827.44       SENP              8  816   \n",
       "3       0   45      F   26677.55       PROF             14  353   \n",
       "4       0   39      F   43440.31       SENP              1  751   \n",
       "\n",
       "   Holding_Period  \n",
       "0              15  \n",
       "1              13  \n",
       "2               5  \n",
       "3              18  \n",
       "4              31  "
      ]
     },
     "execution_count": 6,
     "metadata": {},
     "output_type": "execute_result"
    }
   ],
   "source": [
    "df=df.drop(['Cust_ID','AGE_BKT'], axis=1)\n",
    "df.head()"
   ]
  },
  {
   "cell_type": "markdown",
   "metadata": {},
   "source": [
    "Let us check the data types of each of the variables in the data."
   ]
  },
  {
   "cell_type": "code",
   "execution_count": 7,
   "metadata": {
    "ExecuteTime": {
     "end_time": "2020-03-25T07:48:11.346294Z",
     "start_time": "2020-03-25T07:48:11.180736Z"
    }
   },
   "outputs": [
    {
     "data": {
      "text/plain": [
       "Target              int64\n",
       "Age                 int64\n",
       "Gender             object\n",
       "Balance           float64\n",
       "Occupation         object\n",
       "No_OF_CR_TXNS       int64\n",
       "SCR                 int64\n",
       "Holding_Period      int64\n",
       "dtype: object"
      ]
     },
     "execution_count": 7,
     "metadata": {},
     "output_type": "execute_result"
    }
   ],
   "source": [
    "df.dtypes"
   ]
  },
  {
   "cell_type": "markdown",
   "metadata": {},
   "source": [
    "There are two variables (Gender & Occupation) which has the object data type.\n",
    "\n",
    "sklearn in Python does not take the input of object data types when building Classification Trees. So, we need to convert these variables into some numerical form."
   ]
  },
  {
   "cell_type": "markdown",
   "metadata": {},
   "source": [
    "We have a choice of converting objects into categories if there are only two levels in a variable like Gender (Male / Female) or if the data type is suuposedly ordinal in nature whereby assigning numbers will represent their corresponding weightage.\n",
    "\n",
    "The category data type in pandas is a $\\underline{hybrid}$ data type. It looks and behaves like a string in many instances but internally is represented by an array of integers. This way, Python will treat it as a numerical variable. An interesting article worth reading\n",
    "https://benalexkeen.com/mapping-categorical-data-in-pandas/\n",
    "\n",
    "\n",
    "If this is not the case where the catagory is nominal, One hot encoding is the recommended way forward."
   ]
  },
  {
   "cell_type": "markdown",
   "metadata": {},
   "source": [
    "The following code is provided to you to convert the 'object' type variables into categories(Hybrid data types) to numerical variables by assigning ranks/numbers to each category. Though we are not using it here in this case. Our Categoricalvariables have multiple levels and therefore \"One hot encoding it is\""
   ]
  },
  {
   "cell_type": "code",
   "execution_count": 8,
   "metadata": {
    "ExecuteTime": {
     "end_time": "2020-03-25T07:48:11.518868Z",
     "start_time": "2020-03-25T07:48:11.348323Z"
    }
   },
   "outputs": [],
   "source": [
    "#We could use the following code snippet in the loop. \n",
    "#df['Gender']=pd.Categorical(df['Gender']).codes #code used for assigning numerical value to each category"
   ]
  },
  {
   "cell_type": "markdown",
   "metadata": {
    "ExecuteTime": {
     "end_time": "2020-03-24T17:00:36.023617Z",
     "start_time": "2020-03-24T17:00:36.016561Z"
    }
   },
   "source": [
    "You can read more about the Categorical function in the pandas library \n",
    "\n",
    "https://pandas.pydata.org/pandas-docs/stable/reference/api/pandas.Categorical.html\n",
    "\n",
    "https://pbpython.com/pandas_dtypes_cat.html"
   ]
  },
  {
   "cell_type": "code",
   "execution_count": 9,
   "metadata": {
    "ExecuteTime": {
     "end_time": "2020-03-25T07:48:11.647532Z",
     "start_time": "2020-03-25T07:48:11.519830Z"
    }
   },
   "outputs": [],
   "source": [
    "#Not using this code here hence commented them\n",
    "#for i in df.columns:#looping through all of the columns or variables\n",
    " #   if df[i].dtype == 'object': #checking if the data type of the variable is 'object'\n",
    "  #      df[i] = pd.Categorical(df[i]).codes #converting the identified variable into Categorical and extracting the ranks"
   ]
  },
  {
   "cell_type": "code",
   "execution_count": 10,
   "metadata": {},
   "outputs": [],
   "source": [
    "#We are prepping the data by segregating them into Target and independent variables to runt his model going forward\n",
    "\n",
    "# Let us define the X(predictor) and Y(target) variables\n",
    "\n",
    "X = df.drop(\"Target\" , axis=1)\n",
    "\n",
    "Y = df.pop(\"Target\")\n",
    "#we have made a copy of the data frame as the 'pop' function removes that particular variable from the data frame and stores \n",
    "# in another variable"
   ]
  },
  {
   "cell_type": "code",
   "execution_count": 11,
   "metadata": {},
   "outputs": [],
   "source": [
    "# This line of code is to perform one hot encoding for Categorical Features\n",
    "X = pd.get_dummies( X, drop_first = False )"
   ]
  },
  {
   "cell_type": "code",
   "execution_count": 12,
   "metadata": {},
   "outputs": [
    {
     "data": {
      "text/plain": [
       "['Age',\n",
       " 'Balance',\n",
       " 'No_OF_CR_TXNS',\n",
       " 'SCR',\n",
       " 'Holding_Period',\n",
       " 'Gender_F',\n",
       " 'Gender_M',\n",
       " 'Gender_O',\n",
       " 'Occupation_PROF',\n",
       " 'Occupation_SAL',\n",
       " 'Occupation_SELF-EMP',\n",
       " 'Occupation_SENP']"
      ]
     },
     "execution_count": 12,
     "metadata": {},
     "output_type": "execute_result"
    }
   ],
   "source": [
    "list(X.columns)"
   ]
  },
  {
   "cell_type": "code",
   "execution_count": 13,
   "metadata": {
    "ExecuteTime": {
     "end_time": "2020-03-25T07:48:11.924784Z",
     "start_time": "2020-03-25T07:48:11.795094Z"
    }
   },
   "outputs": [
    {
     "data": {
      "text/plain": [
       "Age                      int64\n",
       "Balance                float64\n",
       "No_OF_CR_TXNS            int64\n",
       "SCR                      int64\n",
       "Holding_Period           int64\n",
       "Gender_F                 uint8\n",
       "Gender_M                 uint8\n",
       "Gender_O                 uint8\n",
       "Occupation_PROF          uint8\n",
       "Occupation_SAL           uint8\n",
       "Occupation_SELF-EMP      uint8\n",
       "Occupation_SENP          uint8\n",
       "dtype: object"
      ]
     },
     "execution_count": 13,
     "metadata": {},
     "output_type": "execute_result"
    }
   ],
   "source": [
    "X.dtypes"
   ]
  },
  {
   "cell_type": "markdown",
   "metadata": {},
   "source": [
    "We see that the data types of all the variables have been changed to either of $\\underline{int64}$ or $\\underline{uint8}$ or $\\underline{float64}$."
   ]
  },
  {
   "cell_type": "code",
   "execution_count": 14,
   "metadata": {},
   "outputs": [
    {
     "data": {
      "text/html": [
       "<div>\n",
       "<style scoped>\n",
       "    .dataframe tbody tr th:only-of-type {\n",
       "        vertical-align: middle;\n",
       "    }\n",
       "\n",
       "    .dataframe tbody tr th {\n",
       "        vertical-align: top;\n",
       "    }\n",
       "\n",
       "    .dataframe thead th {\n",
       "        text-align: right;\n",
       "    }\n",
       "</style>\n",
       "<table border=\"1\" class=\"dataframe\">\n",
       "  <thead>\n",
       "    <tr style=\"text-align: right;\">\n",
       "      <th></th>\n",
       "      <th>Age</th>\n",
       "      <th>Balance</th>\n",
       "      <th>No_OF_CR_TXNS</th>\n",
       "      <th>SCR</th>\n",
       "      <th>Holding_Period</th>\n",
       "      <th>Gender_F</th>\n",
       "      <th>Gender_M</th>\n",
       "      <th>Gender_O</th>\n",
       "      <th>Occupation_PROF</th>\n",
       "      <th>Occupation_SAL</th>\n",
       "      <th>Occupation_SELF-EMP</th>\n",
       "      <th>Occupation_SENP</th>\n",
       "    </tr>\n",
       "  </thead>\n",
       "  <tbody>\n",
       "    <tr>\n",
       "      <th>0</th>\n",
       "      <td>41</td>\n",
       "      <td>91519.92</td>\n",
       "      <td>38</td>\n",
       "      <td>926</td>\n",
       "      <td>15</td>\n",
       "      <td>0</td>\n",
       "      <td>1</td>\n",
       "      <td>0</td>\n",
       "      <td>0</td>\n",
       "      <td>0</td>\n",
       "      <td>1</td>\n",
       "      <td>0</td>\n",
       "    </tr>\n",
       "    <tr>\n",
       "      <th>1</th>\n",
       "      <td>52</td>\n",
       "      <td>117288.96</td>\n",
       "      <td>17</td>\n",
       "      <td>768</td>\n",
       "      <td>13</td>\n",
       "      <td>0</td>\n",
       "      <td>1</td>\n",
       "      <td>0</td>\n",
       "      <td>0</td>\n",
       "      <td>1</td>\n",
       "      <td>0</td>\n",
       "      <td>0</td>\n",
       "    </tr>\n",
       "    <tr>\n",
       "      <th>2</th>\n",
       "      <td>31</td>\n",
       "      <td>259827.44</td>\n",
       "      <td>8</td>\n",
       "      <td>816</td>\n",
       "      <td>5</td>\n",
       "      <td>1</td>\n",
       "      <td>0</td>\n",
       "      <td>0</td>\n",
       "      <td>0</td>\n",
       "      <td>0</td>\n",
       "      <td>0</td>\n",
       "      <td>1</td>\n",
       "    </tr>\n",
       "    <tr>\n",
       "      <th>3</th>\n",
       "      <td>45</td>\n",
       "      <td>26677.55</td>\n",
       "      <td>14</td>\n",
       "      <td>353</td>\n",
       "      <td>18</td>\n",
       "      <td>1</td>\n",
       "      <td>0</td>\n",
       "      <td>0</td>\n",
       "      <td>1</td>\n",
       "      <td>0</td>\n",
       "      <td>0</td>\n",
       "      <td>0</td>\n",
       "    </tr>\n",
       "    <tr>\n",
       "      <th>4</th>\n",
       "      <td>39</td>\n",
       "      <td>43440.31</td>\n",
       "      <td>1</td>\n",
       "      <td>751</td>\n",
       "      <td>31</td>\n",
       "      <td>1</td>\n",
       "      <td>0</td>\n",
       "      <td>0</td>\n",
       "      <td>0</td>\n",
       "      <td>0</td>\n",
       "      <td>0</td>\n",
       "      <td>1</td>\n",
       "    </tr>\n",
       "  </tbody>\n",
       "</table>\n",
       "</div>"
      ],
      "text/plain": [
       "   Age    Balance  No_OF_CR_TXNS  SCR  Holding_Period  Gender_F  Gender_M  \\\n",
       "0   41   91519.92             38  926              15         0         1   \n",
       "1   52  117288.96             17  768              13         0         1   \n",
       "2   31  259827.44              8  816               5         1         0   \n",
       "3   45   26677.55             14  353              18         1         0   \n",
       "4   39   43440.31              1  751              31         1         0   \n",
       "\n",
       "   Gender_O  Occupation_PROF  Occupation_SAL  Occupation_SELF-EMP  \\\n",
       "0         0                0               0                    1   \n",
       "1         0                0               1                    0   \n",
       "2         0                0               0                    0   \n",
       "3         0                1               0                    0   \n",
       "4         0                0               0                    0   \n",
       "\n",
       "   Occupation_SENP  \n",
       "0                0  \n",
       "1                0  \n",
       "2                1  \n",
       "3                0  \n",
       "4                1  "
      ]
     },
     "execution_count": 14,
     "metadata": {},
     "output_type": "execute_result"
    }
   ],
   "source": [
    "#You shall notice One hot encoding converts catagorical variable (Levels) into seperate columns with binary values \n",
    "X.head()"
   ]
  },
  {
   "cell_type": "markdown",
   "metadata": {},
   "source": [
    "## Split the data into Train and Test."
   ]
  },
  {
   "cell_type": "markdown",
   "metadata": {},
   "source": [
    "Before building the model we should split the data into Train and Test. We will thus build a model on the training data and use this model to predict on the test data."
   ]
  },
  {
   "cell_type": "markdown",
   "metadata": {},
   "source": [
    "We will be doing a 70:30 split.\n",
    "70% of the whole data will be used to train the data and then 30% of the data will be used for testing the model thus built."
   ]
  },
  {
   "cell_type": "markdown",
   "metadata": {},
   "source": [
    "Before splitting the data, we shall make a copy of the data frame."
   ]
  },
  {
   "cell_type": "code",
   "execution_count": 15,
   "metadata": {
    "ExecuteTime": {
     "end_time": "2020-03-25T07:48:12.056779Z",
     "start_time": "2020-03-25T07:48:11.926741Z"
    }
   },
   "outputs": [
    {
     "data": {
      "text/html": [
       "<div>\n",
       "<style scoped>\n",
       "    .dataframe tbody tr th:only-of-type {\n",
       "        vertical-align: middle;\n",
       "    }\n",
       "\n",
       "    .dataframe tbody tr th {\n",
       "        vertical-align: top;\n",
       "    }\n",
       "\n",
       "    .dataframe thead th {\n",
       "        text-align: right;\n",
       "    }\n",
       "</style>\n",
       "<table border=\"1\" class=\"dataframe\">\n",
       "  <thead>\n",
       "    <tr style=\"text-align: right;\">\n",
       "      <th></th>\n",
       "      <th>Age</th>\n",
       "      <th>Gender</th>\n",
       "      <th>Balance</th>\n",
       "      <th>Occupation</th>\n",
       "      <th>No_OF_CR_TXNS</th>\n",
       "      <th>SCR</th>\n",
       "      <th>Holding_Period</th>\n",
       "    </tr>\n",
       "  </thead>\n",
       "  <tbody>\n",
       "    <tr>\n",
       "      <th>0</th>\n",
       "      <td>41</td>\n",
       "      <td>M</td>\n",
       "      <td>91519.92</td>\n",
       "      <td>SELF-EMP</td>\n",
       "      <td>38</td>\n",
       "      <td>926</td>\n",
       "      <td>15</td>\n",
       "    </tr>\n",
       "    <tr>\n",
       "      <th>1</th>\n",
       "      <td>52</td>\n",
       "      <td>M</td>\n",
       "      <td>117288.96</td>\n",
       "      <td>SAL</td>\n",
       "      <td>17</td>\n",
       "      <td>768</td>\n",
       "      <td>13</td>\n",
       "    </tr>\n",
       "    <tr>\n",
       "      <th>2</th>\n",
       "      <td>31</td>\n",
       "      <td>F</td>\n",
       "      <td>259827.44</td>\n",
       "      <td>SENP</td>\n",
       "      <td>8</td>\n",
       "      <td>816</td>\n",
       "      <td>5</td>\n",
       "    </tr>\n",
       "    <tr>\n",
       "      <th>3</th>\n",
       "      <td>45</td>\n",
       "      <td>F</td>\n",
       "      <td>26677.55</td>\n",
       "      <td>PROF</td>\n",
       "      <td>14</td>\n",
       "      <td>353</td>\n",
       "      <td>18</td>\n",
       "    </tr>\n",
       "    <tr>\n",
       "      <th>4</th>\n",
       "      <td>39</td>\n",
       "      <td>F</td>\n",
       "      <td>43440.31</td>\n",
       "      <td>SENP</td>\n",
       "      <td>1</td>\n",
       "      <td>751</td>\n",
       "      <td>31</td>\n",
       "    </tr>\n",
       "  </tbody>\n",
       "</table>\n",
       "</div>"
      ],
      "text/plain": [
       "   Age Gender    Balance Occupation  No_OF_CR_TXNS  SCR  Holding_Period\n",
       "0   41      M   91519.92   SELF-EMP             38  926              15\n",
       "1   52      M  117288.96        SAL             17  768              13\n",
       "2   31      F  259827.44       SENP              8  816               5\n",
       "3   45      F   26677.55       PROF             14  353              18\n",
       "4   39      F   43440.31       SENP              1  751              31"
      ]
     },
     "execution_count": 15,
     "metadata": {},
     "output_type": "execute_result"
    }
   ],
   "source": [
    "data = df.copy()\n",
    "data.head()\n",
    "#Just keepipng the copy of the original dataset."
   ]
  },
  {
   "cell_type": "code",
   "execution_count": 16,
   "metadata": {
    "ExecuteTime": {
     "end_time": "2020-03-25T07:48:12.346211Z",
     "start_time": "2020-03-25T07:48:12.228320Z"
    }
   },
   "outputs": [],
   "source": [
    "from sklearn.model_selection import train_test_split\n",
    "\n",
    "X_train, X_test, Y_train, Y_test = train_test_split(X, Y, test_size=.30, random_state=1)"
   ]
  },
  {
   "cell_type": "markdown",
   "metadata": {
    "ExecuteTime": {
     "end_time": "2020-03-24T17:15:36.610145Z",
     "start_time": "2020-03-24T17:15:36.601121Z"
    }
   },
   "source": [
    "Now that we have split the data into Train and Test, let us go ahead and build our Decision Tree Model."
   ]
  },
  {
   "cell_type": "markdown",
   "metadata": {},
   "source": [
    "## Building the Decision Tree"
   ]
  },
  {
   "cell_type": "markdown",
   "metadata": {},
   "source": [
    "We will start by building a very basic Decision Tree model."
   ]
  },
  {
   "cell_type": "code",
   "execution_count": 17,
   "metadata": {
    "ExecuteTime": {
     "end_time": "2020-03-25T07:48:12.477628Z",
     "start_time": "2020-03-25T07:48:12.347945Z"
    }
   },
   "outputs": [],
   "source": [
    "from sklearn import tree"
   ]
  },
  {
   "cell_type": "code",
   "execution_count": 18,
   "metadata": {
    "ExecuteTime": {
     "end_time": "2020-03-25T07:48:12.646697Z",
     "start_time": "2020-03-25T07:48:12.479578Z"
    }
   },
   "outputs": [],
   "source": [
    "dt_model = tree.DecisionTreeClassifier(criterion = 'gini',random_state=1)"
   ]
  },
  {
   "cell_type": "markdown",
   "metadata": {},
   "source": [
    "In the above code snippet we have defined a Decision Tree (which is to be used for classification problems) with the splitting criteria for each node as 'gini'. The 'random_state' parameter ensures that each time we run the code snippet the values remains the same. \n",
    "\n",
    "In the above code snippet default values of 'min_samples_split' and 'min_samples_leaf' is taken as 2 and 1 respectively.\n",
    "\n",
    "To understand about the various other parameters that can be passed into this DecisionTreeClassifier function please refer to the scikitlearn documentation over $\\href{https://scikit-learn.org/stable/modules/generated/sklearn.tree.DecisionTreeClassifier.html}{here}$."
   ]
  },
  {
   "cell_type": "markdown",
   "metadata": {},
   "source": [
    "Now, that we have defined a Decision Tree, let us go ahead and build the model on the training data."
   ]
  },
  {
   "cell_type": "code",
   "execution_count": 19,
   "metadata": {
    "ExecuteTime": {
     "end_time": "2020-03-25T07:48:12.895175Z",
     "start_time": "2020-03-25T07:48:12.648739Z"
    }
   },
   "outputs": [
    {
     "data": {
      "text/plain": [
       "DecisionTreeClassifier(random_state=1)"
      ]
     },
     "execution_count": 19,
     "metadata": {},
     "output_type": "execute_result"
    }
   ],
   "source": [
    "dt_model.fit(X_train, Y_train)"
   ]
  },
  {
   "cell_type": "markdown",
   "metadata": {},
   "source": [
    "## Visualizing the Decision Tree"
   ]
  },
  {
   "cell_type": "markdown",
   "metadata": {},
   "source": [
    "Now, that we have built the tree let us go ahead and visualize the tree to understand the various nuances of the Classification Tree that we just built."
   ]
  },
  {
   "cell_type": "code",
   "execution_count": 20,
   "metadata": {
    "ExecuteTime": {
     "end_time": "2020-03-25T07:48:13.005215Z",
     "start_time": "2020-03-25T07:48:12.897144Z"
    }
   },
   "outputs": [],
   "source": [
    "train_char_label = ['No', 'Yes']# defining the classes of the target variable for the ease of the "
   ]
  },
  {
   "cell_type": "markdown",
   "metadata": {},
   "source": [
    "Now, we need to create a dot file which will contains all the instructions on how build this graphical visualization of the Classification Tree that we had built. In the following code, inside the Open command, please replace the path with your working directory.\n",
    "\n",
    "C:\\\\Users\\\\vivek\\\\OneDrive\\\\Desktop\\\\Decission Tree 19th April 2020\\\\Example 1"
   ]
  },
  {
   "cell_type": "code",
   "execution_count": 21,
   "metadata": {},
   "outputs": [
    {
     "data": {
      "text/plain": [
       "'C:\\\\Users\\\\vivek\\\\Google Drive\\\\Training\\\\Data Mining\\\\CART\\\\CART folder - Instructor using Python\\\\Class Demo Files\\\\Example 1'"
      ]
     },
     "execution_count": 21,
     "metadata": {},
     "output_type": "execute_result"
    }
   ],
   "source": [
    "os.getcwd()"
   ]
  },
  {
   "cell_type": "code",
   "execution_count": 22,
   "metadata": {
    "ExecuteTime": {
     "end_time": "2020-03-25T07:48:13.426432Z",
     "start_time": "2020-03-25T07:48:13.011152Z"
    }
   },
   "outputs": [],
   "source": [
    "#We are opening a 'dot' file by the name of 'decision_tree' in the working directory and we are providing the write permission \n",
    "#to this particular file.\n",
    "CART_File = open('C:\\\\Users\\\\vivek\\\\Google Drive\\\\Training\\\\Data Mining\\\\CART\\\\Python Codes Decission Tree\\\\Example 1\\decision_tree.dot','w')\n",
    "\n",
    "\n",
    "#Now that we have created the 'dot' file, we need to pass the appropriate parameters to export the graphical visualization.\n",
    "\n",
    "dot_data = tree.export_graphviz(dt_model, #passing the model that we had built earlier\n",
    "                                out_file=CART_File, #the output should be saved in the 'dot' file that we created earlier\n",
    "                                feature_names = list(X_train), #names of the independent variables\n",
    "                                class_names = list(train_char_label)) #passing the names of the classes that we had defined\n",
    "\n",
    "#After opening the dot file, all the instructions have been passed and written in the 'dot' file, so we will go ahead and \n",
    "#close the file\n",
    "CART_File.close()\n"
   ]
  },
  {
   "cell_type": "markdown",
   "metadata": {},
   "source": [
    "Let us check the file in the DWorking Directory by the name of 'decision_tree' and visualize it. "
   ]
  },
  {
   "cell_type": "markdown",
   "metadata": {},
   "source": [
    "We can go to the following $\\href{http://www.webgraphviz.com/}{link}$ and paste the contents of the 'dot' file that we have created to visualize the Classification Tree."
   ]
  },
  {
   "cell_type": "markdown",
   "metadata": {},
   "source": [
    "In case the Decision Tree built is very large, the above link takes a lot of time to give us the output.\n",
    "\n",
    "But the following codes helps us in visualizing a very large tree comparatively faster."
   ]
  },
  {
   "cell_type": "code",
   "execution_count": 23,
   "metadata": {
    "ExecuteTime": {
     "end_time": "2020-03-25T07:48:13.433370Z",
     "start_time": "2020-03-25T07:48:13.429352Z"
    }
   },
   "outputs": [],
   "source": [
    "#If the below two libraries are not installed do install them using the following code snippet in the Jupyter Notebook\n",
    "# !pip install 'package name'\n",
    "import pydotplus\n",
    "import graphviz"
   ]
  },
  {
   "cell_type": "code",
   "execution_count": 24,
   "metadata": {},
   "outputs": [
    {
     "name": "stdout",
     "output_type": "stream",
     "text": [
      "Requirement already satisfied: pydotplus in c:\\users\\vivek\\anaconda3\\lib\\site-packages (2.0.2)\n",
      "Requirement already satisfied: pyparsing>=2.0.1 in c:\\users\\vivek\\anaconda3\\lib\\site-packages (from pydotplus) (2.4.7)\n"
     ]
    },
    {
     "name": "stderr",
     "output_type": "stream",
     "text": [
      "WARNING: You are using pip version 21.3.1; however, version 22.0.4 is available.\n",
      "You should consider upgrading via the 'c:\\users\\vivek\\anaconda3\\python.exe -m pip install --upgrade pip' command.\n"
     ]
    }
   ],
   "source": [
    "#Optional - Install only if the prev code throws error else skip running this line\n",
    "!pip install pydotplus"
   ]
  },
  {
   "cell_type": "code",
   "execution_count": 25,
   "metadata": {},
   "outputs": [
    {
     "name": "stdout",
     "output_type": "stream",
     "text": [
      "Requirement already satisfied: graphviz in c:\\users\\vivek\\anaconda3\\lib\\site-packages (0.18)\n"
     ]
    },
    {
     "name": "stderr",
     "output_type": "stream",
     "text": [
      "WARNING: You are using pip version 21.3.1; however, version 22.0.4 is available.\n",
      "You should consider upgrading via the 'c:\\users\\vivek\\anaconda3\\python.exe -m pip install --upgrade pip' command.\n"
     ]
    }
   ],
   "source": [
    "#Optional - Install only if the prev code throws error else skip running this line\n",
    "!pip install graphviz"
   ]
  },
  {
   "cell_type": "markdown",
   "metadata": {},
   "source": [
    "Before running the below codes we need to make sure that the Graphviz software is installed on the system. Please refer to the following steps to understand how to install the Graphviz software:\n",
    "\n",
    "1) Got to this $\\href{https://www.graphviz.org/}{link}$ and click on the 'Download' tab.\n",
    "\n",
    "2) After downloading the Graphviz software, install the Graphviz in the default location. You can change the location but then you have to edit the subsequent codes as well."
   ]
  },
  {
   "cell_type": "code",
   "execution_count": 26,
   "metadata": {
    "ExecuteTime": {
     "end_time": "2020-03-25T07:48:30.096523Z",
     "start_time": "2020-03-25T07:48:13.434339Z"
    }
   },
   "outputs": [],
   "source": [
    "#The following is a modified version of the above code where we tried create a dot file and visualize\n",
    "\n",
    "os.environ[\"PATH\"] += os.pathsep + 'C:/Program Files (x86)/Graphviz2.38/bin/' #setting the path \n",
    "dot_data = tree.export_graphviz(dt_model, out_file=None,#passing the model built and setting the output to None as we do\n",
    "                                #not need the dot file separately to visualize the graph\n",
    "                         feature_names=list(X_train), #names of the independent variables \n",
    "                         class_names=list(train_char_label),  \n",
    "                         filled=True) #colours the nodes for classification for the ease of visualization\n",
    "\n",
    "graph = pydotplus.graph_from_dot_data(dot_data) #extracting the visuals from the above file to plot it"
   ]
  },
  {
   "cell_type": "code",
   "execution_count": 27,
   "metadata": {
    "ExecuteTime": {
     "end_time": "2020-03-25T07:48:41.036244Z",
     "start_time": "2020-03-25T07:48:30.098350Z"
    }
   },
   "outputs": [
    {
     "ename": "InvocationException",
     "evalue": "GraphViz's executables not found",
     "output_type": "error",
     "traceback": [
      "\u001b[1;31m---------------------------------------------------------------------------\u001b[0m",
      "\u001b[1;31mInvocationException\u001b[0m                       Traceback (most recent call last)",
      "\u001b[1;32m<ipython-input-27-961373f224cc>\u001b[0m in \u001b[0;36m<module>\u001b[1;34m\u001b[0m\n\u001b[0;32m      1\u001b[0m \u001b[1;32mfrom\u001b[0m \u001b[0mIPython\u001b[0m\u001b[1;33m.\u001b[0m\u001b[0mdisplay\u001b[0m \u001b[1;32mimport\u001b[0m \u001b[0mImage\u001b[0m\u001b[1;33m\u001b[0m\u001b[1;33m\u001b[0m\u001b[0m\n\u001b[1;32m----> 2\u001b[1;33m \u001b[0mImage\u001b[0m\u001b[1;33m(\u001b[0m\u001b[0mgraph\u001b[0m\u001b[1;33m.\u001b[0m\u001b[0mcreate_png\u001b[0m\u001b[1;33m(\u001b[0m\u001b[1;33m)\u001b[0m\u001b[1;33m)\u001b[0m\u001b[1;31m#creating '.png' file\u001b[0m\u001b[1;33m\u001b[0m\u001b[1;33m\u001b[0m\u001b[0m\n\u001b[0m",
      "\u001b[1;32m~\\anaconda3\\lib\\site-packages\\pydotplus\\graphviz.py\u001b[0m in \u001b[0;36m<lambda>\u001b[1;34m(f, prog)\u001b[0m\n\u001b[0;32m   1795\u001b[0m             self.__setattr__(\n\u001b[0;32m   1796\u001b[0m                 \u001b[1;34m'create_'\u001b[0m \u001b[1;33m+\u001b[0m \u001b[0mfrmt\u001b[0m\u001b[1;33m,\u001b[0m\u001b[1;33m\u001b[0m\u001b[1;33m\u001b[0m\u001b[0m\n\u001b[1;32m-> 1797\u001b[1;33m                 \u001b[1;32mlambda\u001b[0m \u001b[0mf\u001b[0m\u001b[1;33m=\u001b[0m\u001b[0mfrmt\u001b[0m\u001b[1;33m,\u001b[0m \u001b[0mprog\u001b[0m\u001b[1;33m=\u001b[0m\u001b[0mself\u001b[0m\u001b[1;33m.\u001b[0m\u001b[0mprog\u001b[0m\u001b[1;33m:\u001b[0m \u001b[0mself\u001b[0m\u001b[1;33m.\u001b[0m\u001b[0mcreate\u001b[0m\u001b[1;33m(\u001b[0m\u001b[0mformat\u001b[0m\u001b[1;33m=\u001b[0m\u001b[0mf\u001b[0m\u001b[1;33m,\u001b[0m \u001b[0mprog\u001b[0m\u001b[1;33m=\u001b[0m\u001b[0mprog\u001b[0m\u001b[1;33m)\u001b[0m\u001b[1;33m\u001b[0m\u001b[1;33m\u001b[0m\u001b[0m\n\u001b[0m\u001b[0;32m   1798\u001b[0m             )\n\u001b[0;32m   1799\u001b[0m             \u001b[0mf\u001b[0m \u001b[1;33m=\u001b[0m \u001b[0mself\u001b[0m\u001b[1;33m.\u001b[0m\u001b[0m__dict__\u001b[0m\u001b[1;33m[\u001b[0m\u001b[1;34m'create_'\u001b[0m \u001b[1;33m+\u001b[0m \u001b[0mfrmt\u001b[0m\u001b[1;33m]\u001b[0m\u001b[1;33m\u001b[0m\u001b[1;33m\u001b[0m\u001b[0m\n",
      "\u001b[1;32m~\\anaconda3\\lib\\site-packages\\pydotplus\\graphviz.py\u001b[0m in \u001b[0;36mcreate\u001b[1;34m(self, prog, format)\u001b[0m\n\u001b[0;32m   1957\u001b[0m             \u001b[0mself\u001b[0m\u001b[1;33m.\u001b[0m\u001b[0mprogs\u001b[0m \u001b[1;33m=\u001b[0m \u001b[0mfind_graphviz\u001b[0m\u001b[1;33m(\u001b[0m\u001b[1;33m)\u001b[0m\u001b[1;33m\u001b[0m\u001b[1;33m\u001b[0m\u001b[0m\n\u001b[0;32m   1958\u001b[0m             \u001b[1;32mif\u001b[0m \u001b[0mself\u001b[0m\u001b[1;33m.\u001b[0m\u001b[0mprogs\u001b[0m \u001b[1;32mis\u001b[0m \u001b[1;32mNone\u001b[0m\u001b[1;33m:\u001b[0m\u001b[1;33m\u001b[0m\u001b[1;33m\u001b[0m\u001b[0m\n\u001b[1;32m-> 1959\u001b[1;33m                 raise InvocationException(\n\u001b[0m\u001b[0;32m   1960\u001b[0m                     'GraphViz\\'s executables not found')\n\u001b[0;32m   1961\u001b[0m \u001b[1;33m\u001b[0m\u001b[0m\n",
      "\u001b[1;31mInvocationException\u001b[0m: GraphViz's executables not found"
     ]
    }
   ],
   "source": [
    "from IPython.display import Image\n",
    "Image(graph.create_png())#creating '.png' file "
   ]
  },
  {
   "cell_type": "markdown",
   "metadata": {},
   "source": [
    "Since this tree is too large to visualize, we can right-click on the above visual and save it as an image to visualize it or we can pass the following code snippet to save it in the directory that has been set above."
   ]
  },
  {
   "cell_type": "code",
   "execution_count": null,
   "metadata": {
    "ExecuteTime": {
     "end_time": "2020-03-25T07:48:48.225686Z",
     "start_time": "2020-03-25T07:48:41.038193Z"
    }
   },
   "outputs": [],
   "source": [
    "graph.write_jpeg(\"tree.jpeg\")"
   ]
  },
  {
   "cell_type": "markdown",
   "metadata": {},
   "source": [
    "Let us check importance of the variables in the Classification Tree that we just built. The importance of a feature or variable is computed as the (normalized) total reduction of the gini criterion brought by that feature. It is also known as the Gini importance. "
   ]
  },
  {
   "cell_type": "code",
   "execution_count": 28,
   "metadata": {
    "ExecuteTime": {
     "end_time": "2020-03-25T07:48:48.235659Z",
     "start_time": "2020-03-25T07:48:48.226686Z"
    }
   },
   "outputs": [
    {
     "data": {
      "text/plain": [
       "SCR                    0.242872\n",
       "Balance                0.237118\n",
       "No_OF_CR_TXNS          0.156245\n",
       "Holding_Period         0.139365\n",
       "Age                    0.132393\n",
       "Occupation_SENP        0.022496\n",
       "Gender_F               0.016805\n",
       "Occupation_SELF-EMP    0.015588\n",
       "Gender_M               0.013593\n",
       "Occupation_PROF        0.012369\n",
       "Occupation_SAL         0.008398\n",
       "Gender_O               0.002759\n",
       "dtype: float64"
      ]
     },
     "execution_count": 28,
     "metadata": {},
     "output_type": "execute_result"
    }
   ],
   "source": [
    "pd.Series(dt_model.feature_importances_,index=X_train.columns).sort_values(ascending=False)"
   ]
  },
  {
   "cell_type": "markdown",
   "metadata": {},
   "source": [
    "From the above output, we can see that 'SCR' is the most important variable followed by 'Balance' and so on."
   ]
  },
  {
   "cell_type": "markdown",
   "metadata": {},
   "source": [
    "Let us take a look at the overall accuracy of the train and test data using the model that we just built."
   ]
  },
  {
   "cell_type": "code",
   "execution_count": null,
   "metadata": {
    "ExecuteTime": {
     "end_time": "2020-03-25T07:48:48.351618Z",
     "start_time": "2020-03-25T07:48:48.236657Z"
    }
   },
   "outputs": [],
   "source": [
    "#Train Data\n",
    "dt_model.score(X_train,Y_train)"
   ]
  },
  {
   "cell_type": "code",
   "execution_count": null,
   "metadata": {
    "ExecuteTime": {
     "end_time": "2020-03-25T07:48:48.503559Z",
     "start_time": "2020-03-25T07:48:48.352581Z"
    }
   },
   "outputs": [],
   "source": [
    "#Test Data\n",
    "dt_model.score(X_test,Y_test)"
   ]
  },
  {
   "cell_type": "markdown",
   "metadata": {},
   "source": [
    "The accuracy on the Training Data is 100% and the accuracy on the Test Data is lesser substantially. The model has surely been overfitted. \n",
    "Thus, we need to prune or regularize the tree."
   ]
  },
  {
   "cell_type": "markdown",
   "metadata": {},
   "source": [
    "## Pruning/Regularizing the Tree"
   ]
  },
  {
   "cell_type": "markdown",
   "metadata": {
    "ExecuteTime": {
     "end_time": "2020-03-25T06:53:51.659514Z",
     "start_time": "2020-03-25T06:53:51.654527Z"
    }
   },
   "source": [
    "For Pruning/Regularizing the Tree we need to be sure as to what parameters and how to prune the tree."
   ]
  },
  {
   "cell_type": "markdown",
   "metadata": {},
   "source": [
    "# Method 1 for Pruning:\n",
    "\n",
    "#### (by visualizing the tree)"
   ]
  },
  {
   "cell_type": "code",
   "execution_count": null,
   "metadata": {
    "ExecuteTime": {
     "end_time": "2020-03-25T07:48:48.632859Z",
     "start_time": "2020-03-25T07:48:48.505518Z"
    }
   },
   "outputs": [],
   "source": [
    "reg_dt_model = tree.DecisionTreeClassifier(criterion = 'gini', \n",
    "                                       max_depth=13,#upto this depth is where the tree has grown uniformly\n",
    "                                      min_samples_leaf=30, #ensures that every terminal node (leaf node) have at least 10\n",
    "                                      #observations in it\n",
    "                                      min_samples_split=10) #for every node to be split into two child nodes that particular\n",
    "                                      #node should have at least 30 observations  \n",
    "    \n",
    "#Genral Thumb rule: 1% to 3% of the data should be the 'min_samples_split' and one third times the 'min_samples_split'\n",
    "#should be 'min_samples_leaf.These are only a rough guideline value.\n",
    "#Here, we have chose 1% of our training data which has 14,000 observations (140 observations for min_samples_split)"
   ]
  },
  {
   "cell_type": "code",
   "execution_count": null,
   "metadata": {
    "ExecuteTime": {
     "end_time": "2020-03-25T07:48:48.815308Z",
     "start_time": "2020-03-25T07:48:48.634855Z"
    }
   },
   "outputs": [],
   "source": [
    "reg_dt_model.fit(X_train, Y_train)"
   ]
  },
  {
   "cell_type": "markdown",
   "metadata": {},
   "source": [
    "Now that we have built the Pruned/Regularized Classification Tree let us visualize the tree to understand the nuances of the tree."
   ]
  },
  {
   "cell_type": "markdown",
   "metadata": {},
   "source": [
    "### Method 1:"
   ]
  },
  {
   "cell_type": "code",
   "execution_count": null,
   "metadata": {},
   "outputs": [],
   "source": [
    "# Define the path of the dot.file from the output of this code below\n",
    "os.getcwd()"
   ]
  },
  {
   "cell_type": "code",
   "execution_count": null,
   "metadata": {
    "ExecuteTime": {
     "end_time": "2020-03-25T07:48:48.940237Z",
     "start_time": "2020-03-25T07:48:48.816305Z"
    }
   },
   "outputs": [],
   "source": [
    "#We are opening a 'dot' file by the name of 'decision_tree' in the D:Drive and we are providing the write permission \n",
    "#to this particular file.\n",
    "CART_File = open('C:\\\\Users\\\\vivek\\\\Google Drive\\\\Training\\\\Data Mining\\\\CART\\\\Python Codes Decission Tree\\\\Example 1\\decision_tree.dot','w')\n",
    "\n",
    "#Now that we have created the 'dot' file, we need to pass the appropriate parameters to export the graphical visualization.\n",
    "\n",
    "dot_data = tree.export_graphviz(reg_dt_model, #passing the model that we had built earlier\n",
    "                                out_file=CART_File, #the output should be saved in the 'dot' file that we created earlier\n",
    "                                feature_names = list(X_train), #names of the independent variables\n",
    "                                class_names = list(train_char_label)) #passing the names of the classes that we had defined\n",
    "\n",
    "#After opening the dot file, all the instructions have been passed and written in the 'dot' file, so we will go ahead and \n",
    "#close the file\n",
    "CART_File.close()\n"
   ]
  },
  {
   "cell_type": "markdown",
   "metadata": {},
   "source": [
    "We can go to the following $\\href{http://www.webgraphviz.com/}{link}$ and paste the contents of the 'dot' file that we have created to visualize the Classification Tree."
   ]
  },
  {
   "cell_type": "markdown",
   "metadata": {},
   "source": [
    "Since,we have pruned the tree we see that the tree can be visualized properly with the help of the above link."
   ]
  },
  {
   "cell_type": "markdown",
   "metadata": {},
   "source": [
    "### Method 2:"
   ]
  },
  {
   "cell_type": "code",
   "execution_count": null,
   "metadata": {
    "ExecuteTime": {
     "end_time": "2020-03-25T07:48:51.981777Z",
     "start_time": "2020-03-25T07:48:48.941188Z"
    }
   },
   "outputs": [],
   "source": [
    "#The following is a modified version of the above code where we tried create a dot file and visualize\n",
    "\n",
    "os.environ[\"PATH\"] += os.pathsep + 'C:/Program Files (x86)/Graphviz2.38/bin/' #setting the path \n",
    "dot_data = tree.export_graphviz(reg_dt_model, out_file=None,#passing the model built and setting the output to None as we do\n",
    "                                #not need the dot file separately to visualize the graph\n",
    "                         feature_names=list(X_train), #names of the independent variables \n",
    "                         class_names=list(train_char_label),  \n",
    "                         filled=True) #colours the nodes for classification for the ease of visualization\n",
    "\n",
    "graph = pydotplus.graph_from_dot_data(dot_data) #extracting the visuals from the above file to plot it"
   ]
  },
  {
   "cell_type": "code",
   "execution_count": null,
   "metadata": {
    "ExecuteTime": {
     "end_time": "2020-03-25T07:48:55.015465Z",
     "start_time": "2020-03-25T07:48:51.983568Z"
    }
   },
   "outputs": [],
   "source": [
    "from IPython.display import Image\n",
    "Image(graph.create_png())#creating '.png' file "
   ]
  },
  {
   "cell_type": "markdown",
   "metadata": {},
   "source": [
    "As mentioned, we can go ahead and save the above tree as a an image file."
   ]
  },
  {
   "cell_type": "code",
   "execution_count": null,
   "metadata": {
    "ExecuteTime": {
     "end_time": "2020-03-25T07:21:29.974592Z",
     "start_time": "2020-03-25T07:21:29.102029Z"
    }
   },
   "outputs": [],
   "source": [
    "graph.write_jpeg(\"tree.jpeg\")"
   ]
  },
  {
   "cell_type": "markdown",
   "metadata": {},
   "source": [
    "Let us now go ahead and predict both the classes and the probability values on the test data using the Pruned/Regularized Decision Tree."
   ]
  },
  {
   "cell_type": "code",
   "execution_count": null,
   "metadata": {
    "ExecuteTime": {
     "end_time": "2020-03-25T07:52:00.510469Z",
     "start_time": "2020-03-25T07:52:00.501450Z"
    }
   },
   "outputs": [],
   "source": [
    "#We are only predicting the classes over here. Python by default takes the 0.5 cutoff of the probability values while\n",
    "#predicting the classes\n",
    "\n",
    "Y_train_predict_class = reg_dt_model.predict(X_train)\n",
    "Y_test_predict_class = reg_dt_model.predict(X_test)"
   ]
  },
  {
   "cell_type": "code",
   "execution_count": null,
   "metadata": {
    "ExecuteTime": {
     "end_time": "2020-03-25T07:53:32.721418Z",
     "start_time": "2020-03-25T07:53:31.050847Z"
    }
   },
   "outputs": [],
   "source": [
    "#Here, we are predicting the probabilities and we can manually input a cutoff value which is different than 0.5.\n",
    "\n",
    "Y_train_predict_prob = reg_dt_model.predict_proba(X_train)\n",
    "Y_test_predict_prob = reg_dt_model.predict_proba(X_test)"
   ]
  },
  {
   "cell_type": "markdown",
   "metadata": {},
   "source": [
    "# Evaluation of the Train and Test Models."
   ]
  },
  {
   "cell_type": "markdown",
   "metadata": {},
   "source": [
    "Let us first build the confusion matrix, followed by the Classification Report and then the ROC (Receiver Operator Charateristic Curve) curve and the AUC (Area Under the Curve) value."
   ]
  },
  {
   "cell_type": "code",
   "execution_count": null,
   "metadata": {
    "ExecuteTime": {
     "end_time": "2020-03-25T07:55:07.194199Z",
     "start_time": "2020-03-25T07:55:07.190246Z"
    }
   },
   "outputs": [],
   "source": [
    "from sklearn import metrics"
   ]
  },
  {
   "cell_type": "markdown",
   "metadata": {
    "ExecuteTime": {
     "end_time": "2020-03-25T08:21:59.360236Z",
     "start_time": "2020-03-25T08:21:59.355248Z"
    }
   },
   "source": [
    "First we will evaluate the model on the Training Data."
   ]
  },
  {
   "cell_type": "code",
   "execution_count": null,
   "metadata": {
    "ExecuteTime": {
     "end_time": "2020-03-25T08:21:23.602872Z",
     "start_time": "2020-03-25T08:21:23.394483Z"
    }
   },
   "outputs": [],
   "source": [
    "print(metrics.confusion_matrix(Y_train,Y_train_predict_class))"
   ]
  },
  {
   "cell_type": "code",
   "execution_count": null,
   "metadata": {
    "ExecuteTime": {
     "end_time": "2020-03-25T08:22:29.312088Z",
     "start_time": "2020-03-25T08:22:29.297094Z"
    }
   },
   "outputs": [],
   "source": [
    "tn, fp, fn, tp = metrics.confusion_matrix(Y_train,Y_train_predict_class).ravel()\n",
    "print('True Negative:',tn,'\\n''False Positives:' ,fp,'\\n''False Negatives:', fn,'\\n''True Positives:', tp)"
   ]
  },
  {
   "cell_type": "markdown",
   "metadata": {},
   "source": [
    "Let us now go ahead and print the classification report to check the various other parameters."
   ]
  },
  {
   "cell_type": "code",
   "execution_count": null,
   "metadata": {
    "ExecuteTime": {
     "end_time": "2020-03-25T08:26:06.730702Z",
     "start_time": "2020-03-25T08:26:06.518232Z"
    }
   },
   "outputs": [],
   "source": [
    "print(metrics.classification_report(Y_train,Y_train_predict_class))"
   ]
  },
  {
   "cell_type": "markdown",
   "metadata": {},
   "source": [
    "We have been able to predict 92% of the target variables correctly."
   ]
  },
  {
   "cell_type": "markdown",
   "metadata": {},
   "source": [
    "We will now calculate the Area Under the Curve (AUC) of the Receiver Operating Characteristic (ROC) curve and plot the ROC curve as well."
   ]
  },
  {
   "cell_type": "markdown",
   "metadata": {
    "ExecuteTime": {
     "end_time": "2020-03-25T08:31:04.625106Z",
     "start_time": "2020-03-25T08:31:04.505427Z"
    }
   },
   "source": [
    "# AUC and ROC for the training data\n",
    "\n",
    "\n",
    "# calculating on the basis of a person not defaulting\n",
    "# calculate AUC\n",
    "auc = metrics.roc_auc_score(Y_train,Y_train_predict_prob[:, 1])#keeping only the probabilities for the desired class outcome\n",
    "print('AUC: %.3f' % auc)\n",
    "# # calculate roc curve\n",
    "# from sklearn.metrics import roc_curve\n",
    "fpr, tpr, thresholds = metrics.roc_curve(Y_train,Y_train_predict_prob[:, 1])#keeping only the probabilities for the desired \n",
    "#class outcome\n",
    "plt.plot([0, 1], [0, 1], linestyle='--')\n",
    "# plot the roc curve for the model\n",
    "plt.plot(fpr, tpr, marker='.')\n",
    "# show the plot\n",
    "plt.show()"
   ]
  },
  {
   "cell_type": "markdown",
   "metadata": {},
   "source": [
    "Let us check the confusion matrix for the test data."
   ]
  },
  {
   "cell_type": "code",
   "execution_count": null,
   "metadata": {
    "ExecuteTime": {
     "end_time": "2020-03-25T08:28:20.788075Z",
     "start_time": "2020-03-25T08:28:20.772113Z"
    }
   },
   "outputs": [],
   "source": [
    "print(metrics.confusion_matrix(Y_test,Y_test_predict_class),'\\n')\n",
    "tn, fp, fn, tp = metrics.confusion_matrix(Y_test,Y_test_predict_class).ravel()\n",
    "print('True Negative:',tn,'\\n''False Positives:' ,fp,'\\n''False Negatives:', fn,'\\n''True Positives:', tp)"
   ]
  },
  {
   "cell_type": "markdown",
   "metadata": {},
   "source": [
    "Let us now go ahead and print the classification report for the test data and compare between train and test."
   ]
  },
  {
   "cell_type": "code",
   "execution_count": null,
   "metadata": {},
   "outputs": [],
   "source": [
    "print(metrics.classification_report(Y_test,Y_test_predict_class))"
   ]
  },
  {
   "cell_type": "markdown",
   "metadata": {},
   "source": [
    "We will now calculate the Area Under the Curve (AUC) of the Receiver Operating Characteristic (ROC) curve and plot the ROC curve for the Test data."
   ]
  },
  {
   "cell_type": "markdown",
   "metadata": {
    "ExecuteTime": {
     "end_time": "2020-03-25T08:32:30.582778Z",
     "start_time": "2020-03-25T08:32:30.449102Z"
    }
   },
   "source": [
    "# AUC and ROC for the training data\n",
    "\n",
    "\n",
    "# calculating on the basis of a person not defaulting\n",
    "# calculate AUC\n",
    "auc = metrics.roc_auc_score(Y_test,Y_test_predict_prob[:, 1])\n",
    "print('AUC: %.3f' % auc)\n",
    "# # calculate roc curve\n",
    "# from sklearn.metrics import roc_curve\n",
    "fpr, tpr, thresholds = metrics.roc_curve(Y_test,Y_test_predict_prob[:, 1])\n",
    "plt.plot([0, 1], [0, 1], linestyle='--')\n",
    "# plot the roc curve for the model\n",
    "plt.plot(fpr, tpr, marker='.')\n",
    "# show the plot\n",
    "plt.show()"
   ]
  },
  {
   "cell_type": "markdown",
   "metadata": {},
   "source": [
    "# END"
   ]
  }
 ],
 "metadata": {
  "kernelspec": {
   "display_name": "Python 3",
   "language": "python",
   "name": "python3"
  },
  "language_info": {
   "codemirror_mode": {
    "name": "ipython",
    "version": 3
   },
   "file_extension": ".py",
   "mimetype": "text/x-python",
   "name": "python",
   "nbconvert_exporter": "python",
   "pygments_lexer": "ipython3",
   "version": "3.8.3"
  },
  "toc": {
   "base_numbering": 1,
   "nav_menu": {},
   "number_sections": true,
   "sideBar": true,
   "skip_h1_title": false,
   "title_cell": "Table of Contents",
   "title_sidebar": "Contents",
   "toc_cell": false,
   "toc_position": {},
   "toc_section_display": true,
   "toc_window_display": false
  },
  "varInspector": {
   "cols": {
    "lenName": 16,
    "lenType": 16,
    "lenVar": 40
   },
   "kernels_config": {
    "python": {
     "delete_cmd_postfix": "",
     "delete_cmd_prefix": "del ",
     "library": "var_list.py",
     "varRefreshCmd": "print(var_dic_list())"
    },
    "r": {
     "delete_cmd_postfix": ") ",
     "delete_cmd_prefix": "rm(",
     "library": "var_list.r",
     "varRefreshCmd": "cat(var_dic_list()) "
    }
   },
   "types_to_exclude": [
    "module",
    "function",
    "builtin_function_or_method",
    "instance",
    "_Feature"
   ],
   "window_display": false
  }
 },
 "nbformat": 4,
 "nbformat_minor": 2
}
